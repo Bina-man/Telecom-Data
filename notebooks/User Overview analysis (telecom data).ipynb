{
 "cells": [
  {
   "cell_type": "code",
   "execution_count": 30,
   "metadata": {},
   "outputs": [],
   "source": [
    "# from helper import *\n",
    "import pandas as pd\n",
    "import numpy as np\n",
    "import matplotlib.pyplot as plt\n",
    "import seaborn as sns\n",
    "import warnings\n",
    "warnings.filterwarnings('ignore')\n",
    "import os\n",
    "import sys\n",
    "sys.path.append(os.path.abspath(os.path.join('../scripts')))\n",
    "from helper import TelecomHelper\n",
    "from plots import *\n"
   ]
  },
  {
   "cell_type": "code",
   "execution_count": 6,
   "metadata": {},
   "outputs": [],
   "source": [
    "Helper = TelecomHelper()"
   ]
  },
  {
   "cell_type": "code",
   "execution_count": 12,
   "metadata": {},
   "outputs": [
    {
     "name": "stdout",
     "output_type": "stream",
     "text": [
      "file read as csv\n"
     ]
    }
   ],
   "source": [
    "cleaned_df = Helper.read_csv(data='../data/cleaned_data.csv', missing_values=[\"n/a\", \"na\", \"undefined\"])"
   ]
  },
  {
   "cell_type": "code",
   "execution_count": 13,
   "metadata": {},
   "outputs": [
    {
     "data": {
      "text/html": [
       "<div>\n",
       "<style scoped>\n",
       "    .dataframe tbody tr th:only-of-type {\n",
       "        vertical-align: middle;\n",
       "    }\n",
       "\n",
       "    .dataframe tbody tr th {\n",
       "        vertical-align: top;\n",
       "    }\n",
       "\n",
       "    .dataframe thead th {\n",
       "        text-align: right;\n",
       "    }\n",
       "</style>\n",
       "<table border=\"1\" class=\"dataframe\">\n",
       "  <thead>\n",
       "    <tr style=\"text-align: right;\">\n",
       "      <th></th>\n",
       "      <th>xDR_sessions</th>\n",
       "    </tr>\n",
       "    <tr>\n",
       "      <th>msisdn/number</th>\n",
       "      <th></th>\n",
       "    </tr>\n",
       "  </thead>\n",
       "  <tbody>\n",
       "    <tr>\n",
       "      <th>3.362632e+10</th>\n",
       "      <td>18</td>\n",
       "    </tr>\n",
       "    <tr>\n",
       "      <th>3.361489e+10</th>\n",
       "      <td>17</td>\n",
       "    </tr>\n",
       "    <tr>\n",
       "      <th>3.362578e+10</th>\n",
       "      <td>17</td>\n",
       "    </tr>\n",
       "    <tr>\n",
       "      <th>3.365973e+10</th>\n",
       "      <td>16</td>\n",
       "    </tr>\n",
       "    <tr>\n",
       "      <th>3.367588e+10</th>\n",
       "      <td>15</td>\n",
       "    </tr>\n",
       "    <tr>\n",
       "      <th>3.376054e+10</th>\n",
       "      <td>15</td>\n",
       "    </tr>\n",
       "    <tr>\n",
       "      <th>3.366716e+10</th>\n",
       "      <td>13</td>\n",
       "    </tr>\n",
       "    <tr>\n",
       "      <th>3.360313e+10</th>\n",
       "      <td>12</td>\n",
       "    </tr>\n",
       "    <tr>\n",
       "      <th>3.376041e+10</th>\n",
       "      <td>12</td>\n",
       "    </tr>\n",
       "    <tr>\n",
       "      <th>3.362708e+10</th>\n",
       "      <td>12</td>\n",
       "    </tr>\n",
       "  </tbody>\n",
       "</table>\n",
       "</div>"
      ],
      "text/plain": [
       "               xDR_sessions\n",
       "msisdn/number              \n",
       "3.362632e+10             18\n",
       "3.361489e+10             17\n",
       "3.362578e+10             17\n",
       "3.365973e+10             16\n",
       "3.367588e+10             15\n",
       "3.376054e+10             15\n",
       "3.366716e+10             13\n",
       "3.360313e+10             12\n",
       "3.376041e+10             12\n",
       "3.362708e+10             12"
      ]
     },
     "execution_count": 13,
     "metadata": {},
     "output_type": "execute_result"
    }
   ],
   "source": [
    "sessions = cleaned_df.groupby('msisdn/number').agg({'bearer_id': 'count'})\n",
    "sessions = sessions.rename(columns= {'bearer_id': 'xDR_sessions'})\n",
    "sessions.sort_values(by=['xDR_sessions'], ascending = False).head(10)"
   ]
  },
  {
   "cell_type": "code",
   "execution_count": 14,
   "metadata": {},
   "outputs": [
    {
     "data": {
      "text/html": [
       "<div>\n",
       "<style scoped>\n",
       "    .dataframe tbody tr th:only-of-type {\n",
       "        vertical-align: middle;\n",
       "    }\n",
       "\n",
       "    .dataframe tbody tr th {\n",
       "        vertical-align: top;\n",
       "    }\n",
       "\n",
       "    .dataframe thead th {\n",
       "        text-align: right;\n",
       "    }\n",
       "</style>\n",
       "<table border=\"1\" class=\"dataframe\">\n",
       "  <thead>\n",
       "    <tr style=\"text-align: right;\">\n",
       "      <th></th>\n",
       "      <th>xDR_sessions</th>\n",
       "    </tr>\n",
       "  </thead>\n",
       "  <tbody>\n",
       "    <tr>\n",
       "      <th>count</th>\n",
       "      <td>105719.000000</td>\n",
       "    </tr>\n",
       "    <tr>\n",
       "      <th>mean</th>\n",
       "      <td>1.389447</td>\n",
       "    </tr>\n",
       "    <tr>\n",
       "      <th>std</th>\n",
       "      <td>0.796173</td>\n",
       "    </tr>\n",
       "    <tr>\n",
       "      <th>min</th>\n",
       "      <td>1.000000</td>\n",
       "    </tr>\n",
       "    <tr>\n",
       "      <th>25%</th>\n",
       "      <td>1.000000</td>\n",
       "    </tr>\n",
       "    <tr>\n",
       "      <th>50%</th>\n",
       "      <td>1.000000</td>\n",
       "    </tr>\n",
       "    <tr>\n",
       "      <th>75%</th>\n",
       "      <td>2.000000</td>\n",
       "    </tr>\n",
       "    <tr>\n",
       "      <th>max</th>\n",
       "      <td>18.000000</td>\n",
       "    </tr>\n",
       "  </tbody>\n",
       "</table>\n",
       "</div>"
      ],
      "text/plain": [
       "        xDR_sessions\n",
       "count  105719.000000\n",
       "mean        1.389447\n",
       "std         0.796173\n",
       "min         1.000000\n",
       "25%         1.000000\n",
       "50%         1.000000\n",
       "75%         2.000000\n",
       "max        18.000000"
      ]
     },
     "execution_count": 14,
     "metadata": {},
     "output_type": "execute_result"
    }
   ],
   "source": [
    "sessions.describe()"
   ]
  },
  {
   "cell_type": "code",
   "execution_count": 15,
   "metadata": {},
   "outputs": [
    {
     "name": "stdout",
     "output_type": "stream",
     "text": [
      "percent missing for dur._(ms) is:0.0\n"
     ]
    }
   ],
   "source": [
    "print(f\"percent missing for dur._(ms) is:{Helper.percent_missing_for_col(cleaned_df, 'dur._(ms)')}\")"
   ]
  },
  {
   "cell_type": "code",
   "execution_count": 16,
   "metadata": {},
   "outputs": [
    {
     "data": {
      "text/html": [
       "<div>\n",
       "<style scoped>\n",
       "    .dataframe tbody tr th:only-of-type {\n",
       "        vertical-align: middle;\n",
       "    }\n",
       "\n",
       "    .dataframe tbody tr th {\n",
       "        vertical-align: top;\n",
       "    }\n",
       "\n",
       "    .dataframe thead th {\n",
       "        text-align: right;\n",
       "    }\n",
       "</style>\n",
       "<table border=\"1\" class=\"dataframe\">\n",
       "  <thead>\n",
       "    <tr style=\"text-align: right;\">\n",
       "      <th></th>\n",
       "      <th>total_duration(ms)</th>\n",
       "    </tr>\n",
       "    <tr>\n",
       "      <th>msisdn/number</th>\n",
       "      <th></th>\n",
       "    </tr>\n",
       "  </thead>\n",
       "  <tbody>\n",
       "    <tr>\n",
       "      <th>3.362578e+10</th>\n",
       "      <td>18553754.0</td>\n",
       "    </tr>\n",
       "    <tr>\n",
       "      <th>3.361489e+10</th>\n",
       "      <td>9966898.0</td>\n",
       "    </tr>\n",
       "    <tr>\n",
       "      <th>3.376054e+10</th>\n",
       "      <td>9279434.0</td>\n",
       "    </tr>\n",
       "    <tr>\n",
       "      <th>3.362632e+10</th>\n",
       "      <td>8791927.0</td>\n",
       "    </tr>\n",
       "    <tr>\n",
       "      <th>3.366716e+10</th>\n",
       "      <td>8744914.0</td>\n",
       "    </tr>\n",
       "    <tr>\n",
       "      <th>3.366469e+10</th>\n",
       "      <td>6288730.0</td>\n",
       "    </tr>\n",
       "    <tr>\n",
       "      <th>3.360313e+10</th>\n",
       "      <td>6287761.0</td>\n",
       "    </tr>\n",
       "    <tr>\n",
       "      <th>3.366746e+10</th>\n",
       "      <td>5649882.0</td>\n",
       "    </tr>\n",
       "    <tr>\n",
       "      <th>3.376041e+10</th>\n",
       "      <td>5321667.0</td>\n",
       "    </tr>\n",
       "    <tr>\n",
       "      <th>3.360452e+10</th>\n",
       "      <td>5207990.0</td>\n",
       "    </tr>\n",
       "  </tbody>\n",
       "</table>\n",
       "</div>"
      ],
      "text/plain": [
       "               total_duration(ms)\n",
       "msisdn/number                    \n",
       "3.362578e+10           18553754.0\n",
       "3.361489e+10            9966898.0\n",
       "3.376054e+10            9279434.0\n",
       "3.362632e+10            8791927.0\n",
       "3.366716e+10            8744914.0\n",
       "3.366469e+10            6288730.0\n",
       "3.360313e+10            6287761.0\n",
       "3.366746e+10            5649882.0\n",
       "3.376041e+10            5321667.0\n",
       "3.360452e+10            5207990.0"
      ]
     },
     "execution_count": 16,
     "metadata": {},
     "output_type": "execute_result"
    }
   ],
   "source": [
    "# we group the data using  msisdn (customer number) and find sum the the duration for each customer\n",
    "\n",
    "durations = cleaned_df.groupby('msisdn/number').agg({'dur._(ms)': 'sum'})\n",
    "\n",
    "\n",
    "durations=durations.rename(columns= {'dur._(ms)': 'total_duration(ms)'})\n",
    "durations.sort_values(by=['total_duration(ms)'], ascending = False).head(10)"
   ]
  },
  {
   "cell_type": "code",
   "execution_count": 17,
   "metadata": {},
   "outputs": [
    {
     "data": {
      "text/html": [
       "<div>\n",
       "<style scoped>\n",
       "    .dataframe tbody tr th:only-of-type {\n",
       "        vertical-align: middle;\n",
       "    }\n",
       "\n",
       "    .dataframe tbody tr th {\n",
       "        vertical-align: top;\n",
       "    }\n",
       "\n",
       "    .dataframe thead th {\n",
       "        text-align: right;\n",
       "    }\n",
       "</style>\n",
       "<table border=\"1\" class=\"dataframe\">\n",
       "  <thead>\n",
       "    <tr style=\"text-align: right;\">\n",
       "      <th></th>\n",
       "      <th>total_duration(ms)</th>\n",
       "    </tr>\n",
       "  </thead>\n",
       "  <tbody>\n",
       "    <tr>\n",
       "      <th>count</th>\n",
       "      <td>1.057190e+05</td>\n",
       "    </tr>\n",
       "    <tr>\n",
       "      <th>mean</th>\n",
       "      <td>1.462114e+05</td>\n",
       "    </tr>\n",
       "    <tr>\n",
       "      <th>std</th>\n",
       "      <td>1.845391e+05</td>\n",
       "    </tr>\n",
       "    <tr>\n",
       "      <th>min</th>\n",
       "      <td>7.142000e+03</td>\n",
       "    </tr>\n",
       "    <tr>\n",
       "      <th>25%</th>\n",
       "      <td>7.272900e+04</td>\n",
       "    </tr>\n",
       "    <tr>\n",
       "      <th>50%</th>\n",
       "      <td>1.031110e+05</td>\n",
       "    </tr>\n",
       "    <tr>\n",
       "      <th>75%</th>\n",
       "      <td>1.727990e+05</td>\n",
       "    </tr>\n",
       "    <tr>\n",
       "      <th>max</th>\n",
       "      <td>1.855375e+07</td>\n",
       "    </tr>\n",
       "  </tbody>\n",
       "</table>\n",
       "</div>"
      ],
      "text/plain": [
       "       total_duration(ms)\n",
       "count        1.057190e+05\n",
       "mean         1.462114e+05\n",
       "std          1.845391e+05\n",
       "min          7.142000e+03\n",
       "25%          7.272900e+04\n",
       "50%          1.031110e+05\n",
       "75%          1.727990e+05\n",
       "max          1.855375e+07"
      ]
     },
     "execution_count": 17,
     "metadata": {},
     "output_type": "execute_result"
    }
   ],
   "source": [
    "durations.describe()"
   ]
  },
  {
   "cell_type": "code",
   "execution_count": 18,
   "metadata": {},
   "outputs": [
    {
     "data": {
      "text/html": [
       "<div>\n",
       "<style scoped>\n",
       "    .dataframe tbody tr th:only-of-type {\n",
       "        vertical-align: middle;\n",
       "    }\n",
       "\n",
       "    .dataframe tbody tr th {\n",
       "        vertical-align: top;\n",
       "    }\n",
       "\n",
       "    .dataframe thead th {\n",
       "        text-align: right;\n",
       "    }\n",
       "</style>\n",
       "<table border=\"1\" class=\"dataframe\">\n",
       "  <thead>\n",
       "    <tr style=\"text-align: right;\">\n",
       "      <th></th>\n",
       "      <th>total_ul_(bytes)</th>\n",
       "      <th>total_dl_(bytes)</th>\n",
       "      <th>total_data(bytes)</th>\n",
       "    </tr>\n",
       "    <tr>\n",
       "      <th>msisdn/number</th>\n",
       "      <th></th>\n",
       "      <th></th>\n",
       "      <th></th>\n",
       "    </tr>\n",
       "  </thead>\n",
       "  <tbody>\n",
       "    <tr>\n",
       "      <th>3.361489e+10</th>\n",
       "      <td>689483001.0</td>\n",
       "      <td>8.156743e+09</td>\n",
       "      <td>8.846226e+09</td>\n",
       "    </tr>\n",
       "    <tr>\n",
       "      <th>3.376054e+10</th>\n",
       "      <td>703478581.0</td>\n",
       "      <td>7.811295e+09</td>\n",
       "      <td>8.514774e+09</td>\n",
       "    </tr>\n",
       "    <tr>\n",
       "      <th>3.362578e+10</th>\n",
       "      <td>729577380.0</td>\n",
       "      <td>7.770043e+09</td>\n",
       "      <td>8.499621e+09</td>\n",
       "    </tr>\n",
       "    <tr>\n",
       "      <th>3.362632e+10</th>\n",
       "      <td>669650721.0</td>\n",
       "      <td>7.301517e+09</td>\n",
       "      <td>7.971167e+09</td>\n",
       "    </tr>\n",
       "    <tr>\n",
       "      <th>3.367588e+10</th>\n",
       "      <td>581568792.0</td>\n",
       "      <td>7.309542e+09</td>\n",
       "      <td>7.891111e+09</td>\n",
       "    </tr>\n",
       "    <tr>\n",
       "      <th>3.365973e+10</th>\n",
       "      <td>624260321.0</td>\n",
       "      <td>7.081602e+09</td>\n",
       "      <td>7.705863e+09</td>\n",
       "    </tr>\n",
       "    <tr>\n",
       "      <th>3.366646e+10</th>\n",
       "      <td>405060976.0</td>\n",
       "      <td>6.903440e+09</td>\n",
       "      <td>7.308501e+09</td>\n",
       "    </tr>\n",
       "    <tr>\n",
       "      <th>3.376041e+10</th>\n",
       "      <td>521518890.0</td>\n",
       "      <td>6.610852e+09</td>\n",
       "      <td>7.132371e+09</td>\n",
       "    </tr>\n",
       "    <tr>\n",
       "      <th>3.366471e+10</th>\n",
       "      <td>471244453.0</td>\n",
       "      <td>6.400774e+09</td>\n",
       "      <td>6.872018e+09</td>\n",
       "    </tr>\n",
       "    <tr>\n",
       "      <th>3.369879e+10</th>\n",
       "      <td>530343105.0</td>\n",
       "      <td>6.010556e+09</td>\n",
       "      <td>6.540899e+09</td>\n",
       "    </tr>\n",
       "  </tbody>\n",
       "</table>\n",
       "</div>"
      ],
      "text/plain": [
       "               total_ul_(bytes)  total_dl_(bytes)  total_data(bytes)\n",
       "msisdn/number                                                       \n",
       "3.361489e+10        689483001.0      8.156743e+09       8.846226e+09\n",
       "3.376054e+10        703478581.0      7.811295e+09       8.514774e+09\n",
       "3.362578e+10        729577380.0      7.770043e+09       8.499621e+09\n",
       "3.362632e+10        669650721.0      7.301517e+09       7.971167e+09\n",
       "3.367588e+10        581568792.0      7.309542e+09       7.891111e+09\n",
       "3.365973e+10        624260321.0      7.081602e+09       7.705863e+09\n",
       "3.366646e+10        405060976.0      6.903440e+09       7.308501e+09\n",
       "3.376041e+10        521518890.0      6.610852e+09       7.132371e+09\n",
       "3.366471e+10        471244453.0      6.400774e+09       6.872018e+09\n",
       "3.369879e+10        530343105.0      6.010556e+09       6.540899e+09"
      ]
     },
     "execution_count": 18,
     "metadata": {},
     "output_type": "execute_result"
    }
   ],
   "source": [
    "total_data_df = cleaned_df[['msisdn/number','total_ul_(bytes)','total_dl_(bytes)']].copy()\n",
    "total_data_df = total_data_df.groupby('msisdn/number').sum()\n",
    "total_data_df['total_data(bytes)'] = total_data_df['total_ul_(bytes)'] + total_data_df['total_dl_(bytes)']\n",
    "total_data_df.sort_values(by=['total_data(bytes)'], ascending = False).head(10)"
   ]
  },
  {
   "cell_type": "code",
   "execution_count": 19,
   "metadata": {},
   "outputs": [
    {
     "data": {
      "text/html": [
       "<div>\n",
       "<style scoped>\n",
       "    .dataframe tbody tr th:only-of-type {\n",
       "        vertical-align: middle;\n",
       "    }\n",
       "\n",
       "    .dataframe tbody tr th {\n",
       "        vertical-align: top;\n",
       "    }\n",
       "\n",
       "    .dataframe thead th {\n",
       "        text-align: right;\n",
       "    }\n",
       "</style>\n",
       "<table border=\"1\" class=\"dataframe\">\n",
       "  <thead>\n",
       "    <tr style=\"text-align: right;\">\n",
       "      <th></th>\n",
       "      <th>total_ul_(bytes)</th>\n",
       "      <th>total_dl_(bytes)</th>\n",
       "      <th>total_data(bytes)</th>\n",
       "    </tr>\n",
       "  </thead>\n",
       "  <tbody>\n",
       "    <tr>\n",
       "      <th>count</th>\n",
       "      <td>1.057190e+05</td>\n",
       "      <td>1.057190e+05</td>\n",
       "      <td>1.057190e+05</td>\n",
       "    </tr>\n",
       "    <tr>\n",
       "      <th>mean</th>\n",
       "      <td>5.713601e+07</td>\n",
       "      <td>6.317300e+08</td>\n",
       "      <td>6.888661e+08</td>\n",
       "    </tr>\n",
       "    <tr>\n",
       "      <th>std</th>\n",
       "      <td>3.527180e+07</td>\n",
       "      <td>4.609209e+08</td>\n",
       "      <td>4.869964e+08</td>\n",
       "    </tr>\n",
       "    <tr>\n",
       "      <th>min</th>\n",
       "      <td>2.866892e+06</td>\n",
       "      <td>8.827082e+06</td>\n",
       "      <td>3.324901e+07</td>\n",
       "    </tr>\n",
       "    <tr>\n",
       "      <th>25%</th>\n",
       "      <td>3.637849e+07</td>\n",
       "      <td>3.142406e+08</td>\n",
       "      <td>3.579501e+08</td>\n",
       "    </tr>\n",
       "    <tr>\n",
       "      <th>50%</th>\n",
       "      <td>4.676298e+07</td>\n",
       "      <td>5.693797e+08</td>\n",
       "      <td>6.169335e+08</td>\n",
       "    </tr>\n",
       "    <tr>\n",
       "      <th>75%</th>\n",
       "      <td>6.550410e+07</td>\n",
       "      <td>8.062981e+08</td>\n",
       "      <td>8.564738e+08</td>\n",
       "    </tr>\n",
       "    <tr>\n",
       "      <th>max</th>\n",
       "      <td>7.295774e+08</td>\n",
       "      <td>8.156743e+09</td>\n",
       "      <td>8.846226e+09</td>\n",
       "    </tr>\n",
       "  </tbody>\n",
       "</table>\n",
       "</div>"
      ],
      "text/plain": [
       "       total_ul_(bytes)  total_dl_(bytes)  total_data(bytes)\n",
       "count      1.057190e+05      1.057190e+05       1.057190e+05\n",
       "mean       5.713601e+07      6.317300e+08       6.888661e+08\n",
       "std        3.527180e+07      4.609209e+08       4.869964e+08\n",
       "min        2.866892e+06      8.827082e+06       3.324901e+07\n",
       "25%        3.637849e+07      3.142406e+08       3.579501e+08\n",
       "50%        4.676298e+07      5.693797e+08       6.169335e+08\n",
       "75%        6.550410e+07      8.062981e+08       8.564738e+08\n",
       "max        7.295774e+08      8.156743e+09       8.846226e+09"
      ]
     },
     "execution_count": 19,
     "metadata": {},
     "output_type": "execute_result"
    }
   ],
   "source": [
    "total_data_df.describe()"
   ]
  },
  {
   "cell_type": "code",
   "execution_count": 20,
   "metadata": {},
   "outputs": [],
   "source": [
    "cleaned_df[\"social_media\"] = cleaned_df[\"social_media_dl_(bytes)\"] + cleaned_df['social_media_ul_(bytes)']\n",
    "cleaned_df[\"google\"] = cleaned_df[\"google_dl_(bytes)\"] + cleaned_df[\"google_ul_(bytes)\"]\n",
    "cleaned_df['email'] = cleaned_df[\"email_dl_(bytes)\"] + cleaned_df[\"email_ul_(bytes)\"]\n",
    "cleaned_df['youtube'] = cleaned_df[\"youtube_dl_(bytes)\"] + cleaned_df[\"youtube_ul_(bytes)\"]\n",
    "cleaned_df['netflix'] = cleaned_df[\"netflix_dl_(bytes)\"] + cleaned_df[\"netflix_ul_(bytes)\"]\n",
    "cleaned_df[\"gaming\"] = cleaned_df[\"gaming_dl_(bytes)\"] + cleaned_df[\"gaming_ul_(bytes)\"]\n",
    "cleaned_df['other']= cleaned_df[\"other_dl_(bytes)\"]+ cleaned_df[\"other_ul_(bytes)\"]\n",
    "cleaned_df['total_data'] = cleaned_df['total_dl_(bytes)'] + cleaned_df['total_ul_(bytes)']"
   ]
  },
  {
   "cell_type": "code",
   "execution_count": 21,
   "metadata": {},
   "outputs": [],
   "source": [
    "app_total_data = cleaned_df[['msisdn/number','social_media','google',\n",
    "                             'email', 'youtube','netflix', 'gaming','other']].copy()"
   ]
  },
  {
   "cell_type": "code",
   "execution_count": 22,
   "metadata": {},
   "outputs": [
    {
     "data": {
      "text/html": [
       "<div>\n",
       "<style scoped>\n",
       "    .dataframe tbody tr th:only-of-type {\n",
       "        vertical-align: middle;\n",
       "    }\n",
       "\n",
       "    .dataframe tbody tr th {\n",
       "        vertical-align: top;\n",
       "    }\n",
       "\n",
       "    .dataframe thead th {\n",
       "        text-align: right;\n",
       "    }\n",
       "</style>\n",
       "<table border=\"1\" class=\"dataframe\">\n",
       "  <thead>\n",
       "    <tr style=\"text-align: right;\">\n",
       "      <th></th>\n",
       "      <th>social_media</th>\n",
       "      <th>google</th>\n",
       "      <th>email</th>\n",
       "      <th>youtube</th>\n",
       "      <th>netflix</th>\n",
       "      <th>gaming</th>\n",
       "      <th>other</th>\n",
       "    </tr>\n",
       "    <tr>\n",
       "      <th>msisdn/number</th>\n",
       "      <th></th>\n",
       "      <th></th>\n",
       "      <th></th>\n",
       "      <th></th>\n",
       "      <th></th>\n",
       "      <th></th>\n",
       "      <th></th>\n",
       "    </tr>\n",
       "  </thead>\n",
       "  <tbody>\n",
       "    <tr>\n",
       "      <th>3.366113e+10</th>\n",
       "      <td>4293838.0</td>\n",
       "      <td>12585455.0</td>\n",
       "      <td>5064156.0</td>\n",
       "      <td>53071015.0</td>\n",
       "      <td>27512396.0</td>\n",
       "      <td>1.219409e+09</td>\n",
       "      <td>1.054699e+09</td>\n",
       "    </tr>\n",
       "    <tr>\n",
       "      <th>3.366187e+10</th>\n",
       "      <td>1669875.0</td>\n",
       "      <td>15094340.0</td>\n",
       "      <td>7237356.0</td>\n",
       "      <td>38605744.0</td>\n",
       "      <td>63706380.0</td>\n",
       "      <td>8.619822e+08</td>\n",
       "      <td>1.064574e+09</td>\n",
       "    </tr>\n",
       "    <tr>\n",
       "      <th>3.365815e+10</th>\n",
       "      <td>890670.0</td>\n",
       "      <td>8325302.0</td>\n",
       "      <td>2868754.0</td>\n",
       "      <td>42948626.0</td>\n",
       "      <td>21151740.0</td>\n",
       "      <td>1.799747e+07</td>\n",
       "      <td>3.633396e+08</td>\n",
       "    </tr>\n",
       "    <tr>\n",
       "      <th>3.378383e+10</th>\n",
       "      <td>5720146.0</td>\n",
       "      <td>28573320.0</td>\n",
       "      <td>7830745.0</td>\n",
       "      <td>48287050.0</td>\n",
       "      <td>68408143.0</td>\n",
       "      <td>8.710071e+08</td>\n",
       "      <td>9.973134e+08</td>\n",
       "    </tr>\n",
       "    <tr>\n",
       "      <th>3.366840e+10</th>\n",
       "      <td>2392541.0</td>\n",
       "      <td>4842077.0</td>\n",
       "      <td>3734029.0</td>\n",
       "      <td>34174940.0</td>\n",
       "      <td>21645894.0</td>\n",
       "      <td>7.635363e+08</td>\n",
       "      <td>3.963708e+08</td>\n",
       "    </tr>\n",
       "    <tr>\n",
       "      <th>3.366469e+10</th>\n",
       "      <td>3312965.0</td>\n",
       "      <td>12666635.0</td>\n",
       "      <td>6129632.0</td>\n",
       "      <td>50049861.0</td>\n",
       "      <td>54338254.0</td>\n",
       "      <td>9.693595e+08</td>\n",
       "      <td>7.099997e+08</td>\n",
       "    </tr>\n",
       "    <tr>\n",
       "      <th>3.366975e+10</th>\n",
       "      <td>2248048.0</td>\n",
       "      <td>4098831.0</td>\n",
       "      <td>3510852.0</td>\n",
       "      <td>29014930.0</td>\n",
       "      <td>22762264.0</td>\n",
       "      <td>8.338553e+08</td>\n",
       "      <td>7.589846e+08</td>\n",
       "    </tr>\n",
       "    <tr>\n",
       "      <th>3.361664e+10</th>\n",
       "      <td>2040245.0</td>\n",
       "      <td>11238262.0</td>\n",
       "      <td>1193848.0</td>\n",
       "      <td>12924265.0</td>\n",
       "      <td>16406389.0</td>\n",
       "      <td>4.501813e+08</td>\n",
       "      <td>4.207481e+08</td>\n",
       "    </tr>\n",
       "    <tr>\n",
       "      <th>3.366278e+10</th>\n",
       "      <td>1687902.0</td>\n",
       "      <td>20925005.0</td>\n",
       "      <td>6658491.0</td>\n",
       "      <td>41638821.0</td>\n",
       "      <td>43240604.0</td>\n",
       "      <td>3.596920e+08</td>\n",
       "      <td>9.689081e+08</td>\n",
       "    </tr>\n",
       "    <tr>\n",
       "      <th>3.366497e+10</th>\n",
       "      <td>756351.0</td>\n",
       "      <td>2133171.0</td>\n",
       "      <td>2069124.0</td>\n",
       "      <td>30396455.0</td>\n",
       "      <td>26439759.0</td>\n",
       "      <td>7.773724e+08</td>\n",
       "      <td>6.702923e+08</td>\n",
       "    </tr>\n",
       "  </tbody>\n",
       "</table>\n",
       "</div>"
      ],
      "text/plain": [
       "               social_media      google      email     youtube     netflix  \\\n",
       "msisdn/number                                                                \n",
       "3.366113e+10      4293838.0  12585455.0  5064156.0  53071015.0  27512396.0   \n",
       "3.366187e+10      1669875.0  15094340.0  7237356.0  38605744.0  63706380.0   \n",
       "3.365815e+10       890670.0   8325302.0  2868754.0  42948626.0  21151740.0   \n",
       "3.378383e+10      5720146.0  28573320.0  7830745.0  48287050.0  68408143.0   \n",
       "3.366840e+10      2392541.0   4842077.0  3734029.0  34174940.0  21645894.0   \n",
       "3.366469e+10      3312965.0  12666635.0  6129632.0  50049861.0  54338254.0   \n",
       "3.366975e+10      2248048.0   4098831.0  3510852.0  29014930.0  22762264.0   \n",
       "3.361664e+10      2040245.0  11238262.0  1193848.0  12924265.0  16406389.0   \n",
       "3.366278e+10      1687902.0  20925005.0  6658491.0  41638821.0  43240604.0   \n",
       "3.366497e+10       756351.0   2133171.0  2069124.0  30396455.0  26439759.0   \n",
       "\n",
       "                     gaming         other  \n",
       "msisdn/number                              \n",
       "3.366113e+10   1.219409e+09  1.054699e+09  \n",
       "3.366187e+10   8.619822e+08  1.064574e+09  \n",
       "3.365815e+10   1.799747e+07  3.633396e+08  \n",
       "3.378383e+10   8.710071e+08  9.973134e+08  \n",
       "3.366840e+10   7.635363e+08  3.963708e+08  \n",
       "3.366469e+10   9.693595e+08  7.099997e+08  \n",
       "3.366975e+10   8.338553e+08  7.589846e+08  \n",
       "3.361664e+10   4.501813e+08  4.207481e+08  \n",
       "3.366278e+10   3.596920e+08  9.689081e+08  \n",
       "3.366497e+10   7.773724e+08  6.702923e+08  "
      ]
     },
     "execution_count": 22,
     "metadata": {},
     "output_type": "execute_result"
    }
   ],
   "source": [
    "app_total_data.groupby('msisdn/number').sum().sample(10)"
   ]
  },
  {
   "cell_type": "code",
   "execution_count": 23,
   "metadata": {},
   "outputs": [
    {
     "data": {
      "text/html": [
       "<div>\n",
       "<style scoped>\n",
       "    .dataframe tbody tr th:only-of-type {\n",
       "        vertical-align: middle;\n",
       "    }\n",
       "\n",
       "    .dataframe tbody tr th {\n",
       "        vertical-align: top;\n",
       "    }\n",
       "\n",
       "    .dataframe thead th {\n",
       "        text-align: right;\n",
       "    }\n",
       "</style>\n",
       "<table border=\"1\" class=\"dataframe\">\n",
       "  <thead>\n",
       "    <tr style=\"text-align: right;\">\n",
       "      <th></th>\n",
       "      <th>msisdn/number</th>\n",
       "      <th>social_media</th>\n",
       "      <th>google</th>\n",
       "      <th>email</th>\n",
       "      <th>youtube</th>\n",
       "      <th>netflix</th>\n",
       "      <th>gaming</th>\n",
       "      <th>other</th>\n",
       "    </tr>\n",
       "  </thead>\n",
       "  <tbody>\n",
       "    <tr>\n",
       "      <th>count</th>\n",
       "      <td>1.468910e+05</td>\n",
       "      <td>1.468910e+05</td>\n",
       "      <td>1.468910e+05</td>\n",
       "      <td>1.468910e+05</td>\n",
       "      <td>1.468910e+05</td>\n",
       "      <td>1.468910e+05</td>\n",
       "      <td>1.468910e+05</td>\n",
       "      <td>1.468910e+05</td>\n",
       "    </tr>\n",
       "    <tr>\n",
       "      <th>mean</th>\n",
       "      <td>3.596855e+10</td>\n",
       "      <td>1.827740e+06</td>\n",
       "      <td>7.807978e+06</td>\n",
       "      <td>2.259078e+06</td>\n",
       "      <td>2.264199e+07</td>\n",
       "      <td>2.262936e+07</td>\n",
       "      <td>4.303551e+08</td>\n",
       "      <td>4.292667e+08</td>\n",
       "    </tr>\n",
       "    <tr>\n",
       "      <th>std</th>\n",
       "      <td>8.792026e+11</td>\n",
       "      <td>1.035571e+06</td>\n",
       "      <td>3.517121e+06</td>\n",
       "      <td>1.071128e+06</td>\n",
       "      <td>9.244557e+06</td>\n",
       "      <td>9.259223e+06</td>\n",
       "      <td>2.440902e+08</td>\n",
       "      <td>2.432095e+08</td>\n",
       "    </tr>\n",
       "    <tr>\n",
       "      <th>min</th>\n",
       "      <td>3.360100e+10</td>\n",
       "      <td>1.563000e+03</td>\n",
       "      <td>4.033000e+04</td>\n",
       "      <td>8.359000e+03</td>\n",
       "      <td>1.296550e+05</td>\n",
       "      <td>9.843200e+04</td>\n",
       "      <td>3.063580e+05</td>\n",
       "      <td>1.490450e+05</td>\n",
       "    </tr>\n",
       "    <tr>\n",
       "      <th>25%</th>\n",
       "      <td>3.365128e+10</td>\n",
       "      <td>9.313390e+05</td>\n",
       "      <td>4.943585e+06</td>\n",
       "      <td>1.359012e+06</td>\n",
       "      <td>1.599734e+07</td>\n",
       "      <td>1.598200e+07</td>\n",
       "      <td>2.186982e+08</td>\n",
       "      <td>2.184706e+08</td>\n",
       "    </tr>\n",
       "    <tr>\n",
       "      <th>50%</th>\n",
       "      <td>3.366369e+10</td>\n",
       "      <td>1.825390e+06</td>\n",
       "      <td>7.815399e+06</td>\n",
       "      <td>2.263843e+06</td>\n",
       "      <td>2.266341e+07</td>\n",
       "      <td>2.263459e+07</td>\n",
       "      <td>4.316651e+08</td>\n",
       "      <td>4.297978e+08</td>\n",
       "    </tr>\n",
       "    <tr>\n",
       "      <th>75%</th>\n",
       "      <td>3.368344e+10</td>\n",
       "      <td>2.727156e+06</td>\n",
       "      <td>1.068314e+07</td>\n",
       "      <td>3.159587e+06</td>\n",
       "      <td>2.929342e+07</td>\n",
       "      <td>2.928815e+07</td>\n",
       "      <td>6.415728e+08</td>\n",
       "      <td>6.396656e+08</td>\n",
       "    </tr>\n",
       "    <tr>\n",
       "      <th>max</th>\n",
       "      <td>3.370000e+14</td>\n",
       "      <td>3.650861e+06</td>\n",
       "      <td>1.552878e+07</td>\n",
       "      <td>4.518036e+06</td>\n",
       "      <td>4.519008e+07</td>\n",
       "      <td>4.519815e+07</td>\n",
       "      <td>8.592028e+08</td>\n",
       "      <td>8.595209e+08</td>\n",
       "    </tr>\n",
       "  </tbody>\n",
       "</table>\n",
       "</div>"
      ],
      "text/plain": [
       "       msisdn/number  social_media        google         email       youtube  \\\n",
       "count   1.468910e+05  1.468910e+05  1.468910e+05  1.468910e+05  1.468910e+05   \n",
       "mean    3.596855e+10  1.827740e+06  7.807978e+06  2.259078e+06  2.264199e+07   \n",
       "std     8.792026e+11  1.035571e+06  3.517121e+06  1.071128e+06  9.244557e+06   \n",
       "min     3.360100e+10  1.563000e+03  4.033000e+04  8.359000e+03  1.296550e+05   \n",
       "25%     3.365128e+10  9.313390e+05  4.943585e+06  1.359012e+06  1.599734e+07   \n",
       "50%     3.366369e+10  1.825390e+06  7.815399e+06  2.263843e+06  2.266341e+07   \n",
       "75%     3.368344e+10  2.727156e+06  1.068314e+07  3.159587e+06  2.929342e+07   \n",
       "max     3.370000e+14  3.650861e+06  1.552878e+07  4.518036e+06  4.519008e+07   \n",
       "\n",
       "            netflix        gaming         other  \n",
       "count  1.468910e+05  1.468910e+05  1.468910e+05  \n",
       "mean   2.262936e+07  4.303551e+08  4.292667e+08  \n",
       "std    9.259223e+06  2.440902e+08  2.432095e+08  \n",
       "min    9.843200e+04  3.063580e+05  1.490450e+05  \n",
       "25%    1.598200e+07  2.186982e+08  2.184706e+08  \n",
       "50%    2.263459e+07  4.316651e+08  4.297978e+08  \n",
       "75%    2.928815e+07  6.415728e+08  6.396656e+08  \n",
       "max    4.519815e+07  8.592028e+08  8.595209e+08  "
      ]
     },
     "execution_count": 23,
     "metadata": {},
     "output_type": "execute_result"
    }
   ],
   "source": [
    "app_total_data.describe()"
   ]
  },
  {
   "cell_type": "code",
   "execution_count": 24,
   "metadata": {},
   "outputs": [],
   "source": [
    "\n",
    "\n",
    "explore_feature_df = cleaned_df[['msisdn/number', 'last_location_name',\n",
    "                                 'handset_manufacturer', 'handset_type', 'dur._(ms)', \n",
    "                                 'social_media', 'google', 'email', 'youtube', 'netflix',\n",
    "                                 'gaming','other', 'total_data'\n",
    "                                ]]\n",
    "explore_feature_df = explore_feature_df.rename(columns={'other':'other_data','msisdn/number': 'msisdn', 'last_location_name': 'location','dur._(ms)': 'duration_ms' })\n",
    "\n"
   ]
  },
  {
   "cell_type": "code",
   "execution_count": 25,
   "metadata": {},
   "outputs": [
    {
     "data": {
      "text/html": [
       "<div>\n",
       "<style scoped>\n",
       "    .dataframe tbody tr th:only-of-type {\n",
       "        vertical-align: middle;\n",
       "    }\n",
       "\n",
       "    .dataframe tbody tr th {\n",
       "        vertical-align: top;\n",
       "    }\n",
       "\n",
       "    .dataframe thead th {\n",
       "        text-align: right;\n",
       "    }\n",
       "</style>\n",
       "<table border=\"1\" class=\"dataframe\">\n",
       "  <thead>\n",
       "    <tr style=\"text-align: right;\">\n",
       "      <th></th>\n",
       "      <th>msisdn</th>\n",
       "      <th>location</th>\n",
       "      <th>handset_manufacturer</th>\n",
       "      <th>handset_type</th>\n",
       "      <th>duration_ms</th>\n",
       "      <th>social_media</th>\n",
       "      <th>google</th>\n",
       "      <th>email</th>\n",
       "      <th>youtube</th>\n",
       "      <th>netflix</th>\n",
       "      <th>gaming</th>\n",
       "      <th>other_data</th>\n",
       "      <th>total_data</th>\n",
       "    </tr>\n",
       "  </thead>\n",
       "  <tbody>\n",
       "    <tr>\n",
       "      <th>0</th>\n",
       "      <td>3.366496e+10</td>\n",
       "      <td>9164566995485190</td>\n",
       "      <td>Samsung</td>\n",
       "      <td>Samsung Galaxy A5 Sm-A520F</td>\n",
       "      <td>1823652.0</td>\n",
       "      <td>1570185.0</td>\n",
       "      <td>2905912.0</td>\n",
       "      <td>3701304.0</td>\n",
       "      <td>18355943.0</td>\n",
       "      <td>17855187.0</td>\n",
       "      <td>292426453.0</td>\n",
       "      <td>180558843.0</td>\n",
       "      <td>345629377.0</td>\n",
       "    </tr>\n",
       "    <tr>\n",
       "      <th>1</th>\n",
       "      <td>3.368185e+10</td>\n",
       "      <td>L77566A</td>\n",
       "      <td>Samsung</td>\n",
       "      <td>Samsung Galaxy J5 (Sm-J530)</td>\n",
       "      <td>1365104.0</td>\n",
       "      <td>1933278.0</td>\n",
       "      <td>4414096.0</td>\n",
       "      <td>937385.0</td>\n",
       "      <td>39359124.0</td>\n",
       "      <td>35565545.0</td>\n",
       "      <td>609920783.0</td>\n",
       "      <td>541959383.0</td>\n",
       "      <td>707185356.0</td>\n",
       "    </tr>\n",
       "    <tr>\n",
       "      <th>2</th>\n",
       "      <td>3.376063e+10</td>\n",
       "      <td>D42335A</td>\n",
       "      <td>Samsung</td>\n",
       "      <td>Samsung Galaxy A8 (2018)</td>\n",
       "      <td>1361762.0</td>\n",
       "      <td>1726277.0</td>\n",
       "      <td>10229119.0</td>\n",
       "      <td>3363124.0</td>\n",
       "      <td>34425237.0</td>\n",
       "      <td>23751202.0</td>\n",
       "      <td>229980251.0</td>\n",
       "      <td>414908351.0</td>\n",
       "      <td>307690973.0</td>\n",
       "    </tr>\n",
       "    <tr>\n",
       "      <th>3</th>\n",
       "      <td>3.375034e+10</td>\n",
       "      <td>T21824A</td>\n",
       "      <td>undefined</td>\n",
       "      <td>undefined</td>\n",
       "      <td>1321509.0</td>\n",
       "      <td>657493.0</td>\n",
       "      <td>11811761.0</td>\n",
       "      <td>2070983.0</td>\n",
       "      <td>36534765.0</td>\n",
       "      <td>15092588.0</td>\n",
       "      <td>810387875.0</td>\n",
       "      <td>761837216.0</td>\n",
       "      <td>889352748.0</td>\n",
       "    </tr>\n",
       "    <tr>\n",
       "      <th>4</th>\n",
       "      <td>3.369980e+10</td>\n",
       "      <td>D88865A</td>\n",
       "      <td>Samsung</td>\n",
       "      <td>Samsung Sm-G390F</td>\n",
       "      <td>1089009.0</td>\n",
       "      <td>912788.0</td>\n",
       "      <td>7748843.0</td>\n",
       "      <td>2110349.0</td>\n",
       "      <td>34222253.0</td>\n",
       "      <td>17539799.0</td>\n",
       "      <td>531237049.0</td>\n",
       "      <td>564619822.0</td>\n",
       "      <td>607681403.0</td>\n",
       "    </tr>\n",
       "  </tbody>\n",
       "</table>\n",
       "</div>"
      ],
      "text/plain": [
       "         msisdn          location handset_manufacturer  \\\n",
       "0  3.366496e+10  9164566995485190              Samsung   \n",
       "1  3.368185e+10           L77566A              Samsung   \n",
       "2  3.376063e+10           D42335A              Samsung   \n",
       "3  3.375034e+10           T21824A            undefined   \n",
       "4  3.369980e+10           D88865A              Samsung   \n",
       "\n",
       "                  handset_type  duration_ms  social_media      google  \\\n",
       "0   Samsung Galaxy A5 Sm-A520F    1823652.0     1570185.0   2905912.0   \n",
       "1  Samsung Galaxy J5 (Sm-J530)    1365104.0     1933278.0   4414096.0   \n",
       "2     Samsung Galaxy A8 (2018)    1361762.0     1726277.0  10229119.0   \n",
       "3                    undefined    1321509.0      657493.0  11811761.0   \n",
       "4             Samsung Sm-G390F    1089009.0      912788.0   7748843.0   \n",
       "\n",
       "       email     youtube     netflix       gaming   other_data   total_data  \n",
       "0  3701304.0  18355943.0  17855187.0  292426453.0  180558843.0  345629377.0  \n",
       "1   937385.0  39359124.0  35565545.0  609920783.0  541959383.0  707185356.0  \n",
       "2  3363124.0  34425237.0  23751202.0  229980251.0  414908351.0  307690973.0  \n",
       "3  2070983.0  36534765.0  15092588.0  810387875.0  761837216.0  889352748.0  \n",
       "4  2110349.0  34222253.0  17539799.0  531237049.0  564619822.0  607681403.0  "
      ]
     },
     "execution_count": 25,
     "metadata": {},
     "output_type": "execute_result"
    }
   ],
   "source": [
    "explore_feature_df.head()"
   ]
  },
  {
   "cell_type": "code",
   "execution_count": 26,
   "metadata": {},
   "outputs": [],
   "source": [
    "def convert_bytes_to_megabytes(df, bytes_data):\n",
    "\n",
    "        megabyte = 1*10e+5\n",
    "        megabyte_col = df[bytes_data] / megabyte\n",
    "\n",
    "        return megabyte_col"
   ]
  },
  {
   "cell_type": "code",
   "execution_count": 27,
   "metadata": {},
   "outputs": [],
   "source": [
    "\n",
    "\n",
    "explore_feature_df['social_media'] = convert_bytes_to_megabytes(explore_feature_df, 'social_media')\n",
    "\n",
    "explore_feature_df['google'] = convert_bytes_to_megabytes(explore_feature_df, 'google')\n",
    "\n",
    "explore_feature_df['email'] = convert_bytes_to_megabytes(explore_feature_df, 'email')\n",
    "\n",
    "explore_feature_df['youtube'] = convert_bytes_to_megabytes(explore_feature_df, 'youtube')\n",
    "\n",
    "explore_feature_df['netflix'] = convert_bytes_to_megabytes(explore_feature_df, 'netflix')\n",
    "\n",
    "explore_feature_df['gaming'] = convert_bytes_to_megabytes(explore_feature_df, 'gaming')\n",
    "\n",
    "explore_feature_df['total_data'] = convert_bytes_to_megabytes(explore_feature_df, 'total_data')\n",
    "\n",
    "explore_feature_df['other_data'] = convert_bytes_to_megabytes(explore_feature_df, 'other_data')\n"
   ]
  },
  {
   "cell_type": "code",
   "execution_count": 28,
   "metadata": {},
   "outputs": [],
   "source": [
    "quntitative_df = explore_feature_df[['duration_ms', 'social_media', 'google', 'email', 'youtube', 'netflix',\n",
    "                                 'gaming', 'total_data', 'other_data' ]]"
   ]
  },
  {
   "cell_type": "code",
   "execution_count": 29,
   "metadata": {},
   "outputs": [
    {
     "data": {
      "text/html": [
       "<div>\n",
       "<style scoped>\n",
       "    .dataframe tbody tr th:only-of-type {\n",
       "        vertical-align: middle;\n",
       "    }\n",
       "\n",
       "    .dataframe tbody tr th {\n",
       "        vertical-align: top;\n",
       "    }\n",
       "\n",
       "    .dataframe thead th {\n",
       "        text-align: right;\n",
       "    }\n",
       "</style>\n",
       "<table border=\"1\" class=\"dataframe\">\n",
       "  <thead>\n",
       "    <tr style=\"text-align: right;\">\n",
       "      <th></th>\n",
       "      <th>count</th>\n",
       "      <th>mean</th>\n",
       "      <th>std</th>\n",
       "      <th>min</th>\n",
       "      <th>25%</th>\n",
       "      <th>50%</th>\n",
       "      <th>75%</th>\n",
       "      <th>max</th>\n",
       "    </tr>\n",
       "  </thead>\n",
       "  <tbody>\n",
       "    <tr>\n",
       "      <th>duration_ms</th>\n",
       "      <td>146891.0</td>\n",
       "      <td>105229.880394</td>\n",
       "      <td>80924.455397</td>\n",
       "      <td>7142.000000</td>\n",
       "      <td>58527.000000</td>\n",
       "      <td>86399.000000</td>\n",
       "      <td>133154.500000</td>\n",
       "      <td>1.859336e+06</td>\n",
       "    </tr>\n",
       "    <tr>\n",
       "      <th>social_media</th>\n",
       "      <td>146891.0</td>\n",
       "      <td>1.827740</td>\n",
       "      <td>1.035571</td>\n",
       "      <td>0.001563</td>\n",
       "      <td>0.931339</td>\n",
       "      <td>1.825390</td>\n",
       "      <td>2.727156</td>\n",
       "      <td>3.650861e+00</td>\n",
       "    </tr>\n",
       "    <tr>\n",
       "      <th>google</th>\n",
       "      <td>146891.0</td>\n",
       "      <td>7.807978</td>\n",
       "      <td>3.517121</td>\n",
       "      <td>0.040330</td>\n",
       "      <td>4.943585</td>\n",
       "      <td>7.815399</td>\n",
       "      <td>10.683145</td>\n",
       "      <td>1.552878e+01</td>\n",
       "    </tr>\n",
       "    <tr>\n",
       "      <th>email</th>\n",
       "      <td>146891.0</td>\n",
       "      <td>2.259078</td>\n",
       "      <td>1.071128</td>\n",
       "      <td>0.008359</td>\n",
       "      <td>1.359012</td>\n",
       "      <td>2.263843</td>\n",
       "      <td>3.159587</td>\n",
       "      <td>4.518036e+00</td>\n",
       "    </tr>\n",
       "    <tr>\n",
       "      <th>youtube</th>\n",
       "      <td>146891.0</td>\n",
       "      <td>22.641990</td>\n",
       "      <td>9.244557</td>\n",
       "      <td>0.129655</td>\n",
       "      <td>15.997340</td>\n",
       "      <td>22.663408</td>\n",
       "      <td>29.293419</td>\n",
       "      <td>4.519008e+01</td>\n",
       "    </tr>\n",
       "    <tr>\n",
       "      <th>netflix</th>\n",
       "      <td>146891.0</td>\n",
       "      <td>22.629360</td>\n",
       "      <td>9.259223</td>\n",
       "      <td>0.098432</td>\n",
       "      <td>15.981996</td>\n",
       "      <td>22.634588</td>\n",
       "      <td>29.288154</td>\n",
       "      <td>4.519815e+01</td>\n",
       "    </tr>\n",
       "    <tr>\n",
       "      <th>gaming</th>\n",
       "      <td>146891.0</td>\n",
       "      <td>430.355126</td>\n",
       "      <td>244.090217</td>\n",
       "      <td>0.306358</td>\n",
       "      <td>218.698198</td>\n",
       "      <td>431.665078</td>\n",
       "      <td>641.572846</td>\n",
       "      <td>8.592028e+02</td>\n",
       "    </tr>\n",
       "    <tr>\n",
       "      <th>total_data</th>\n",
       "      <td>146891.0</td>\n",
       "      <td>495.784159</td>\n",
       "      <td>244.441632</td>\n",
       "      <td>28.956107</td>\n",
       "      <td>284.485028</td>\n",
       "      <td>496.924346</td>\n",
       "      <td>706.637913</td>\n",
       "      <td>9.559848e+02</td>\n",
       "    </tr>\n",
       "    <tr>\n",
       "      <th>other_data</th>\n",
       "      <td>146891.0</td>\n",
       "      <td>429.266672</td>\n",
       "      <td>243.209547</td>\n",
       "      <td>0.149045</td>\n",
       "      <td>218.470640</td>\n",
       "      <td>429.797759</td>\n",
       "      <td>639.665594</td>\n",
       "      <td>8.595209e+02</td>\n",
       "    </tr>\n",
       "  </tbody>\n",
       "</table>\n",
       "</div>"
      ],
      "text/plain": [
       "                 count           mean           std          min  \\\n",
       "duration_ms   146891.0  105229.880394  80924.455397  7142.000000   \n",
       "social_media  146891.0       1.827740      1.035571     0.001563   \n",
       "google        146891.0       7.807978      3.517121     0.040330   \n",
       "email         146891.0       2.259078      1.071128     0.008359   \n",
       "youtube       146891.0      22.641990      9.244557     0.129655   \n",
       "netflix       146891.0      22.629360      9.259223     0.098432   \n",
       "gaming        146891.0     430.355126    244.090217     0.306358   \n",
       "total_data    146891.0     495.784159    244.441632    28.956107   \n",
       "other_data    146891.0     429.266672    243.209547     0.149045   \n",
       "\n",
       "                       25%           50%            75%           max  \n",
       "duration_ms   58527.000000  86399.000000  133154.500000  1.859336e+06  \n",
       "social_media      0.931339      1.825390       2.727156  3.650861e+00  \n",
       "google            4.943585      7.815399      10.683145  1.552878e+01  \n",
       "email             1.359012      2.263843       3.159587  4.518036e+00  \n",
       "youtube          15.997340     22.663408      29.293419  4.519008e+01  \n",
       "netflix          15.981996     22.634588      29.288154  4.519815e+01  \n",
       "gaming          218.698198    431.665078     641.572846  8.592028e+02  \n",
       "total_data      284.485028    496.924346     706.637913  9.559848e+02  \n",
       "other_data      218.470640    429.797759     639.665594  8.595209e+02  "
      ]
     },
     "execution_count": 29,
     "metadata": {},
     "output_type": "execute_result"
    }
   ],
   "source": [
    "quntitative_df.describe().transpose()"
   ]
  },
  {
   "cell_type": "code",
   "execution_count": 32,
   "metadata": {},
   "outputs": [
    {
     "data": {
      "image/png": "[encoded data removed]",
      "text/plain": [
       "<Figure size 864x504 with 1 Axes>"
      ]
     },
     "metadata": {
      "needs_background": "light"
     },
     "output_type": "display_data"
    }
   ],
   "source": [
    "plot_box(quntitative_df,\"social_media\", \"social_media outliers\")"
   ]
  },
  {
   "cell_type": "code",
   "execution_count": 34,
   "metadata": {},
   "outputs": [
    {
     "data": {
      "image/png": "[encoded data removed]",
      "text/plain": [
       "<Figure size 864x504 with 1 Axes>"
      ]
     },
     "metadata": {
      "needs_background": "light"
     },
     "output_type": "display_data"
    },
    {
     "data": {
      "image/png": "[encoded data removed]",
      "text/plain": [
       "<Figure size 864x504 with 1 Axes>"
      ]
     },
     "metadata": {
      "needs_background": "light"
     },
     "output_type": "display_data"
    },
    {
     "data": {
      "image/png": "[encoded data removed]",
      "text/plain": [
       "<Figure size 864x504 with 1 Axes>"
      ]
     },
     "metadata": {
      "needs_background": "light"
     },
     "output_type": "display_data"
    },
    {
     "data": {
      "image/png": "[encoded data removed]",
      "text/plain": [
       "<Figure size 864x504 with 1 Axes>"
      ]
     },
     "metadata": {
      "needs_background": "light"
     },
     "output_type": "display_data"
    },
    {
     "data": {
      "image/png": "[encoded data removed]",
      "text/plain": [
       "<Figure size 864x504 with 1 Axes>"
      ]
     },
     "metadata": {
      "needs_background": "light"
     },
     "output_type": "display_data"
    },
    {
     "data": {
      "image/png": "[encoded data removed]",
      "text/plain": [
       "<Figure size 864x504 with 1 Axes>"
      ]
     },
     "metadata": {
      "needs_background": "light"
     },
     "output_type": "display_data"
    }
   ],
   "source": [
    "plot_box(quntitative_df, \"google\", \"google outliers\")\n",
    "\n",
    "plot_box(quntitative_df, \"email\", \"email outliers\"  )\n",
    "\n",
    "plot_box(quntitative_df, \"youtube\", \"youtube outliers\")\n",
    "\n",
    "plot_box(quntitative_df, \"netflix\", \"netflix outliers\")\n",
    "\n",
    "plot_box(quntitative_df, \"other_data\", \"other_data outliers\")\n",
    "\n",
    "plot_box(quntitative_df, \"total_data\", \"total_data outliers\")\n"
   ]
  },
  {
   "cell_type": "code",
   "execution_count": 35,
   "metadata": {},
   "outputs": [
    {
     "data": {
      "image/png": "[encoded data removed]",
      "text/plain": [
       "<Figure size 864x504 with 1 Axes>"
      ]
     },
     "metadata": {
      "needs_background": "light"
     },
     "output_type": "display_data"
    }
   ],
   "source": [
    "plot_box(quntitative_df, \"duration_ms\", \"duration\")\n"
   ]
  },
  {
   "cell_type": "code",
   "execution_count": 36,
   "metadata": {},
   "outputs": [
    {
     "data": {
      "image/png": "[encoded data removed]",
      "text/plain": [
       "<Figure size 864x504 with 1 Axes>"
      ]
     },
     "metadata": {
      "needs_background": "light"
     },
     "output_type": "display_data"
    }
   ],
   "source": [
    "\n",
    "quntitative_df['duration_ms'] = np.where(quntitative_df['duration_ms'] > quntitative_df['duration_ms'].quantile(0.95),\n",
    "                                         quntitative_df['duration_ms'].mode(),quntitative_df['duration_ms'])\n",
    "plot_box(quntitative_df, \"duration_ms\", \"duration\")\n"
   ]
  },
  {
   "cell_type": "code",
   "execution_count": 38,
   "metadata": {},
   "outputs": [
    {
     "data": {
      "text/plain": [
       "<Figure size 648x504 with 0 Axes>"
      ]
     },
     "metadata": {},
     "output_type": "display_data"
    },
    {
     "data": {
      "image/png": "[encoded data removed]",
      "text/plain": [
       "<Figure size 1008x504 with 1 Axes>"
      ]
     },
     "metadata": {
      "needs_background": "light"
     },
     "output_type": "display_data"
    },
    {
     "data": {
      "text/plain": [
       "<Figure size 648x504 with 0 Axes>"
      ]
     },
     "metadata": {},
     "output_type": "display_data"
    },
    {
     "data": {
      "image/png": "[encoded data removed]",
      "text/plain": [
       "<Figure size 1008x504 with 1 Axes>"
      ]
     },
     "metadata": {
      "needs_background": "light"
     },
     "output_type": "display_data"
    },
    {
     "data": {
      "text/plain": [
       "<Figure size 648x504 with 0 Axes>"
      ]
     },
     "metadata": {},
     "output_type": "display_data"
    },
    {
     "data": {
      "image/png": "[encoded data removed]",
      "text/plain": [
       "<Figure size 1008x504 with 1 Axes>"
      ]
     },
     "metadata": {
      "needs_background": "light"
     },
     "output_type": "display_data"
    },
    {
     "data": {
      "text/plain": [
       "<Figure size 648x504 with 0 Axes>"
      ]
     },
     "metadata": {},
     "output_type": "display_data"
    },
    {
     "data": {
      "image/png": "[encoded data removed]",
      "text/plain": [
       "<Figure size 1008x504 with 1 Axes>"
      ]
     },
     "metadata": {
      "needs_background": "light"
     },
     "output_type": "display_data"
    }
   ],
   "source": [
    "plot_hist(quntitative_df.sample(1000), 'duration_ms', color='green')\n",
    "\n",
    "plot_hist(quntitative_df, 'gaming', color='orange')\n",
    "\n",
    "plot_hist(quntitative_df, 'netflix', color='tomato')\n",
    "\n",
    "plot_hist(quntitative_df, 'social_media', color='green')\n",
    "\n",
    "\n"
   ]
  },
  {
   "cell_type": "code",
   "execution_count": 41,
   "metadata": {},
   "outputs": [
    {
     "ename": "ValueError",
     "evalue": "'overViewAnal' was not found in history, as a file, url, nor in the user namespace.",
     "output_type": "error",
     "traceback": [
      "\u001b[1;31m---------------------------------------------------------------------------\u001b[0m",
      "\u001b[1;31mNameError\u001b[0m                                 Traceback (most recent call last)",
      "\u001b[1;32m~\\AppData\\Roaming\\Python\\Python38\\site-packages\\IPython\\core\\interactiveshell.py\u001b[0m in \u001b[0;36mfind_user_code\u001b[1;34m(self, target, raw, py_only, skip_encoding_cookie, search_ns)\u001b[0m\n\u001b[0;32m   3763\u001b[0m         \u001b[1;32mtry\u001b[0m\u001b[1;33m:\u001b[0m                                              \u001b[1;31m# User namespace\u001b[0m\u001b[1;33m\u001b[0m\u001b[1;33m\u001b[0m\u001b[0m\n\u001b[1;32m-> 3764\u001b[1;33m             \u001b[0mcodeobj\u001b[0m \u001b[1;33m=\u001b[0m \u001b[0meval\u001b[0m\u001b[1;33m(\u001b[0m\u001b[0mtarget\u001b[0m\u001b[1;33m,\u001b[0m \u001b[0mself\u001b[0m\u001b[1;33m.\u001b[0m\u001b[0muser_ns\u001b[0m\u001b[1;33m)\u001b[0m\u001b[1;33m\u001b[0m\u001b[1;33m\u001b[0m\u001b[0m\n\u001b[0m\u001b[0;32m   3765\u001b[0m         \u001b[1;32mexcept\u001b[0m \u001b[0mException\u001b[0m\u001b[1;33m:\u001b[0m\u001b[1;33m\u001b[0m\u001b[1;33m\u001b[0m\u001b[0m\n",
      "\u001b[1;32m<string>\u001b[0m in \u001b[0;36m<module>\u001b[1;34m\u001b[0m\n",
      "\u001b[1;31mNameError\u001b[0m: name 'overViewAnal' is not defined",
      "\nDuring handling of the above exception, another exception occurred:\n",
      "\u001b[1;31mValueError\u001b[0m                                Traceback (most recent call last)",
      "\u001b[1;32m~\\AppData\\Local\\Temp/ipykernel_2028/1681697195.py\u001b[0m in \u001b[0;36m<module>\u001b[1;34m\u001b[0m\n\u001b[1;32m----> 1\u001b[1;33m \u001b[0mget_ipython\u001b[0m\u001b[1;33m(\u001b[0m\u001b[1;33m)\u001b[0m\u001b[1;33m.\u001b[0m\u001b[0mrun_line_magic\u001b[0m\u001b[1;33m(\u001b[0m\u001b[1;34m'load'\u001b[0m\u001b[1;33m,\u001b[0m \u001b[1;34m'overViewAnal'\u001b[0m\u001b[1;33m)\u001b[0m\u001b[1;33m\u001b[0m\u001b[1;33m\u001b[0m\u001b[0m\n\u001b[0m",
      "\u001b[1;32m~\\AppData\\Roaming\\Python\\Python38\\site-packages\\IPython\\core\\interactiveshell.py\u001b[0m in \u001b[0;36mrun_line_magic\u001b[1;34m(self, magic_name, line, _stack_depth)\u001b[0m\n\u001b[0;32m   2349\u001b[0m                 \u001b[0mkwargs\u001b[0m\u001b[1;33m[\u001b[0m\u001b[1;34m'local_ns'\u001b[0m\u001b[1;33m]\u001b[0m \u001b[1;33m=\u001b[0m \u001b[0mself\u001b[0m\u001b[1;33m.\u001b[0m\u001b[0mget_local_scope\u001b[0m\u001b[1;33m(\u001b[0m\u001b[0mstack_depth\u001b[0m\u001b[1;33m)\u001b[0m\u001b[1;33m\u001b[0m\u001b[1;33m\u001b[0m\u001b[0m\n\u001b[0;32m   2350\u001b[0m             \u001b[1;32mwith\u001b[0m \u001b[0mself\u001b[0m\u001b[1;33m.\u001b[0m\u001b[0mbuiltin_trap\u001b[0m\u001b[1;33m:\u001b[0m\u001b[1;33m\u001b[0m\u001b[1;33m\u001b[0m\u001b[0m\n\u001b[1;32m-> 2351\u001b[1;33m                 \u001b[0mresult\u001b[0m \u001b[1;33m=\u001b[0m \u001b[0mfn\u001b[0m\u001b[1;33m(\u001b[0m\u001b[1;33m*\u001b[0m\u001b[0margs\u001b[0m\u001b[1;33m,\u001b[0m \u001b[1;33m**\u001b[0m\u001b[0mkwargs\u001b[0m\u001b[1;33m)\u001b[0m\u001b[1;33m\u001b[0m\u001b[1;33m\u001b[0m\u001b[0m\n\u001b[0m\u001b[0;32m   2352\u001b[0m             \u001b[1;32mreturn\u001b[0m \u001b[0mresult\u001b[0m\u001b[1;33m\u001b[0m\u001b[1;33m\u001b[0m\u001b[0m\n\u001b[0;32m   2353\u001b[0m \u001b[1;33m\u001b[0m\u001b[0m\n",
      "\u001b[1;32m~\\AppData\\Roaming\\Python\\Python38\\site-packages\\decorator.py\u001b[0m in \u001b[0;36mfun\u001b[1;34m(*args, **kw)\u001b[0m\n\u001b[0;32m    230\u001b[0m             \u001b[1;32mif\u001b[0m \u001b[1;32mnot\u001b[0m \u001b[0mkwsyntax\u001b[0m\u001b[1;33m:\u001b[0m\u001b[1;33m\u001b[0m\u001b[1;33m\u001b[0m\u001b[0m\n\u001b[0;32m    231\u001b[0m                 \u001b[0margs\u001b[0m\u001b[1;33m,\u001b[0m \u001b[0mkw\u001b[0m \u001b[1;33m=\u001b[0m \u001b[0mfix\u001b[0m\u001b[1;33m(\u001b[0m\u001b[0margs\u001b[0m\u001b[1;33m,\u001b[0m \u001b[0mkw\u001b[0m\u001b[1;33m,\u001b[0m \u001b[0msig\u001b[0m\u001b[1;33m)\u001b[0m\u001b[1;33m\u001b[0m\u001b[1;33m\u001b[0m\u001b[0m\n\u001b[1;32m--> 232\u001b[1;33m             \u001b[1;32mreturn\u001b[0m \u001b[0mcaller\u001b[0m\u001b[1;33m(\u001b[0m\u001b[0mfunc\u001b[0m\u001b[1;33m,\u001b[0m \u001b[1;33m*\u001b[0m\u001b[1;33m(\u001b[0m\u001b[0mextras\u001b[0m \u001b[1;33m+\u001b[0m \u001b[0margs\u001b[0m\u001b[1;33m)\u001b[0m\u001b[1;33m,\u001b[0m \u001b[1;33m**\u001b[0m\u001b[0mkw\u001b[0m\u001b[1;33m)\u001b[0m\u001b[1;33m\u001b[0m\u001b[1;33m\u001b[0m\u001b[0m\n\u001b[0m\u001b[0;32m    233\u001b[0m     \u001b[0mfun\u001b[0m\u001b[1;33m.\u001b[0m\u001b[0m__name__\u001b[0m \u001b[1;33m=\u001b[0m \u001b[0mfunc\u001b[0m\u001b[1;33m.\u001b[0m\u001b[0m__name__\u001b[0m\u001b[1;33m\u001b[0m\u001b[1;33m\u001b[0m\u001b[0m\n\u001b[0;32m    234\u001b[0m     \u001b[0mfun\u001b[0m\u001b[1;33m.\u001b[0m\u001b[0m__doc__\u001b[0m \u001b[1;33m=\u001b[0m \u001b[0mfunc\u001b[0m\u001b[1;33m.\u001b[0m\u001b[0m__doc__\u001b[0m\u001b[1;33m\u001b[0m\u001b[1;33m\u001b[0m\u001b[0m\n",
      "\u001b[1;32m~\\AppData\\Roaming\\Python\\Python38\\site-packages\\IPython\\core\\magic.py\u001b[0m in \u001b[0;36m<lambda>\u001b[1;34m(f, *a, **k)\u001b[0m\n\u001b[0;32m    185\u001b[0m     \u001b[1;31m# but it's overkill for just that one bit of state.\u001b[0m\u001b[1;33m\u001b[0m\u001b[1;33m\u001b[0m\u001b[1;33m\u001b[0m\u001b[0m\n\u001b[0;32m    186\u001b[0m     \u001b[1;32mdef\u001b[0m \u001b[0mmagic_deco\u001b[0m\u001b[1;33m(\u001b[0m\u001b[0marg\u001b[0m\u001b[1;33m)\u001b[0m\u001b[1;33m:\u001b[0m\u001b[1;33m\u001b[0m\u001b[1;33m\u001b[0m\u001b[0m\n\u001b[1;32m--> 187\u001b[1;33m         \u001b[0mcall\u001b[0m \u001b[1;33m=\u001b[0m \u001b[1;32mlambda\u001b[0m \u001b[0mf\u001b[0m\u001b[1;33m,\u001b[0m \u001b[1;33m*\u001b[0m\u001b[0ma\u001b[0m\u001b[1;33m,\u001b[0m \u001b[1;33m**\u001b[0m\u001b[0mk\u001b[0m\u001b[1;33m:\u001b[0m \u001b[0mf\u001b[0m\u001b[1;33m(\u001b[0m\u001b[1;33m*\u001b[0m\u001b[0ma\u001b[0m\u001b[1;33m,\u001b[0m \u001b[1;33m**\u001b[0m\u001b[0mk\u001b[0m\u001b[1;33m)\u001b[0m\u001b[1;33m\u001b[0m\u001b[1;33m\u001b[0m\u001b[0m\n\u001b[0m\u001b[0;32m    188\u001b[0m \u001b[1;33m\u001b[0m\u001b[0m\n\u001b[0;32m    189\u001b[0m         \u001b[1;32mif\u001b[0m \u001b[0mcallable\u001b[0m\u001b[1;33m(\u001b[0m\u001b[0marg\u001b[0m\u001b[1;33m)\u001b[0m\u001b[1;33m:\u001b[0m\u001b[1;33m\u001b[0m\u001b[1;33m\u001b[0m\u001b[0m\n",
      "\u001b[1;32m~\\AppData\\Roaming\\Python\\Python38\\site-packages\\IPython\\core\\magics\\code.py\u001b[0m in \u001b[0;36mload\u001b[1;34m(self, arg_s)\u001b[0m\n\u001b[0;32m    351\u001b[0m         \u001b[0msearch_ns\u001b[0m \u001b[1;33m=\u001b[0m \u001b[1;34m'n'\u001b[0m \u001b[1;32min\u001b[0m \u001b[0mopts\u001b[0m\u001b[1;33m\u001b[0m\u001b[1;33m\u001b[0m\u001b[0m\n\u001b[0;32m    352\u001b[0m \u001b[1;33m\u001b[0m\u001b[0m\n\u001b[1;32m--> 353\u001b[1;33m         \u001b[0mcontents\u001b[0m \u001b[1;33m=\u001b[0m \u001b[0mself\u001b[0m\u001b[1;33m.\u001b[0m\u001b[0mshell\u001b[0m\u001b[1;33m.\u001b[0m\u001b[0mfind_user_code\u001b[0m\u001b[1;33m(\u001b[0m\u001b[0margs\u001b[0m\u001b[1;33m,\u001b[0m \u001b[0msearch_ns\u001b[0m\u001b[1;33m=\u001b[0m\u001b[0msearch_ns\u001b[0m\u001b[1;33m)\u001b[0m\u001b[1;33m\u001b[0m\u001b[1;33m\u001b[0m\u001b[0m\n\u001b[0m\u001b[0;32m    354\u001b[0m \u001b[1;33m\u001b[0m\u001b[0m\n\u001b[0;32m    355\u001b[0m         \u001b[1;32mif\u001b[0m \u001b[1;34m's'\u001b[0m \u001b[1;32min\u001b[0m \u001b[0mopts\u001b[0m\u001b[1;33m:\u001b[0m\u001b[1;33m\u001b[0m\u001b[1;33m\u001b[0m\u001b[0m\n",
      "\u001b[1;32m~\\AppData\\Roaming\\Python\\Python38\\site-packages\\IPython\\core\\interactiveshell.py\u001b[0m in \u001b[0;36mfind_user_code\u001b[1;34m(self, target, raw, py_only, skip_encoding_cookie, search_ns)\u001b[0m\n\u001b[0;32m   3764\u001b[0m             \u001b[0mcodeobj\u001b[0m \u001b[1;33m=\u001b[0m \u001b[0meval\u001b[0m\u001b[1;33m(\u001b[0m\u001b[0mtarget\u001b[0m\u001b[1;33m,\u001b[0m \u001b[0mself\u001b[0m\u001b[1;33m.\u001b[0m\u001b[0muser_ns\u001b[0m\u001b[1;33m)\u001b[0m\u001b[1;33m\u001b[0m\u001b[1;33m\u001b[0m\u001b[0m\n\u001b[0;32m   3765\u001b[0m         \u001b[1;32mexcept\u001b[0m \u001b[0mException\u001b[0m\u001b[1;33m:\u001b[0m\u001b[1;33m\u001b[0m\u001b[1;33m\u001b[0m\u001b[0m\n\u001b[1;32m-> 3766\u001b[1;33m             raise ValueError((\"'%s' was not found in history, as a file, url, \"\n\u001b[0m\u001b[0;32m   3767\u001b[0m                                 \"nor in the user namespace.\") % target)\n\u001b[0;32m   3768\u001b[0m \u001b[1;33m\u001b[0m\u001b[0m\n",
      "\u001b[1;31mValueError\u001b[0m: 'overViewAnal' was not found in history, as a file, url, nor in the user namespace."
     ]
    }
   ],
   "source": [
    "%load overViewAnal "
   ]
  },
  {
   "cell_type": "code",
   "execution_count": 39,
   "metadata": {},
   "outputs": [
    {
     "ename": "NameError",
     "evalue": "name 'overViewAnal' is not defined",
     "output_type": "error",
     "traceback": [
      "\u001b[1;31m---------------------------------------------------------------------------\u001b[0m",
      "\u001b[1;31mNameError\u001b[0m                                 Traceback (most recent call last)",
      "\u001b[1;32m~\\AppData\\Local\\Temp/ipykernel_2028/4098169302.py\u001b[0m in \u001b[0;36m<module>\u001b[1;34m\u001b[0m\n\u001b[1;32m----> 1\u001b[1;33m \u001b[0mtop_manfacturers\u001b[0m \u001b[1;33m=\u001b[0m \u001b[0moverViewAnal\u001b[0m\u001b[1;33m.\u001b[0m\u001b[0mtop_manufacturer\u001b[0m\u001b[1;33m(\u001b[0m\u001b[0mtop\u001b[0m\u001b[1;33m=\u001b[0m\u001b[1;36m5\u001b[0m\u001b[1;33m)\u001b[0m\u001b[1;33m.\u001b[0m\u001b[0mindex\u001b[0m\u001b[1;33m[\u001b[0m\u001b[1;33m:\u001b[0m\u001b[1;36m5\u001b[0m\u001b[1;33m]\u001b[0m\u001b[1;33m.\u001b[0m\u001b[0mto_list\u001b[0m\u001b[1;33m(\u001b[0m\u001b[1;33m)\u001b[0m\u001b[1;33m\u001b[0m\u001b[1;33m\u001b[0m\u001b[0m\n\u001b[0m\u001b[0;32m      2\u001b[0m \u001b[0mfilter_row\u001b[0m \u001b[1;33m=\u001b[0m \u001b[0mexplore_feature_df\u001b[0m\u001b[1;33m[\u001b[0m\u001b[1;34m'handset_manufacturer'\u001b[0m\u001b[1;33m]\u001b[0m\u001b[1;33m.\u001b[0m\u001b[0misin\u001b[0m\u001b[1;33m(\u001b[0m\u001b[0mtop_manfacturers\u001b[0m\u001b[1;33m)\u001b[0m\u001b[1;33m\u001b[0m\u001b[1;33m\u001b[0m\u001b[0m\n\u001b[0;32m      3\u001b[0m \u001b[1;33m\u001b[0m\u001b[0m\n\u001b[0;32m      4\u001b[0m \u001b[0mcount_df\u001b[0m \u001b[1;33m=\u001b[0m \u001b[0mexplore_feature_df\u001b[0m\u001b[1;33m[\u001b[0m\u001b[0mfilter_row\u001b[0m\u001b[1;33m]\u001b[0m\u001b[1;33m\u001b[0m\u001b[1;33m\u001b[0m\u001b[0m\n\u001b[0;32m      5\u001b[0m \u001b[0mplot_count\u001b[0m\u001b[1;33m(\u001b[0m\u001b[0mcount_df\u001b[0m\u001b[1;33m,\u001b[0m \u001b[1;34m'handset_manufacturer'\u001b[0m\u001b[1;33m)\u001b[0m\u001b[1;33m\u001b[0m\u001b[1;33m\u001b[0m\u001b[0m\n",
      "\u001b[1;31mNameError\u001b[0m: name 'overViewAnal' is not defined"
     ]
    }
   ],
   "source": [
    "top_manfacturers = overViewAnal.top_manufacturer(top=5).index[:5].to_list()\n",
    "filter_row = explore_feature_df['handset_manufacturer'].isin(top_manfacturers)\n",
    "\n",
    "count_df = explore_feature_df[filter_row]\n",
    "plot_count(count_df, 'handset_manufacturer')\n",
    "\n",
    "\n",
    "\n",
    "# plot_count(explore_feature_df[explore_feature_df['handset_manufacturer'].isin(overViewAnal.top_manufacturer(top=3)._to_list())], 'handset_manufacturer')\n",
    "\n"
   ]
  },
  {
   "cell_type": "code",
   "execution_count": null,
   "metadata": {},
   "outputs": [],
   "source": []
  },
  {
   "cell_type": "code",
   "execution_count": null,
   "metadata": {},
   "outputs": [],
   "source": []
  },
  {
   "cell_type": "code",
   "execution_count": null,
   "metadata": {},
   "outputs": [],
   "source": []
  },
  {
   "cell_type": "code",
   "execution_count": null,
   "metadata": {},
   "outputs": [],
   "source": []
  },
  {
   "cell_type": "code",
   "execution_count": null,
   "metadata": {},
   "outputs": [],
   "source": []
  },
  {
   "cell_type": "code",
   "execution_count": null,
   "metadata": {},
   "outputs": [],
   "source": []
  }
 ],
 "metadata": {
  "kernelspec": {
   "display_name": "Python 3",
   "language": "python",
   "name": "python3"
  },
  "language_info": {
   "codemirror_mode": {
    "name": "ipython",
    "version": 3
   },
   "file_extension": ".py",
   "mimetype": "text/x-python",
   "name": "python",
   "nbconvert_exporter": "python",
   "pygments_lexer": "ipython3",
   "version": "3.8.5"
  }
 },
 "nbformat": 4,
 "nbformat_minor": 4
}
